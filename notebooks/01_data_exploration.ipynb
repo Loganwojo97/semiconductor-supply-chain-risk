{
 "cells": [
  {
   "cell_type": "code",
   "execution_count": null,
   "id": "19c7dd75",
   "metadata": {
    "vscode": {
     "languageId": "plaintext"
    }
   },
   "outputs": [],
   "source": [
    "import pandas as pd\n",
    "import numpy as np\n",
    "import matplotlib.pyplot as plt\n",
    "import seaborn as sns\n",
    "import plotly.express as px\n",
    "from pathlib import Path\n",
    "import sys\n",
    "sys.path.append('..')\n",
    "\n",
    "print(\"Semiconductor Supply Chain Risk - Data Exploration\")"
   ]
  },
  {
   "cell_type": "code",
   "execution_count": null,
   "id": "adff6929",
   "metadata": {
    "vscode": {
     "languageId": "plaintext"
    }
   },
   "outputs": [],
   "source": [
    "# Load your actual collected data\n",
    "data_dir = Path(\"../data/raw/financial_data\")\n",
    "csv_files = list(data_dir.glob(\"financial_risk_indicators_*.csv\"))\n",
    "\n",
    "if csv_files:\n",
    "    latest_file = max(csv_files, key=lambda f: f.stat().st_mtime)\n",
    "    df = pd.read_csv(latest_file)\n",
    "    print(f\"Loaded {len(df)} companies from {latest_file.name}\")\n",
    "    df.head()\n",
    "else:\n",
    "    print(\"No data found - run: python src/data_collection/financial_data.py\")"
   ]
  },
  {
   "cell_type": "code",
   "execution_count": null,
   "id": "a600fa53",
   "metadata": {
    "vscode": {
     "languageId": "plaintext"
    }
   },
   "outputs": [],
   "source": [
    "# Basic statistics\n",
    "print(\"Dataset Overview:\")\n",
    "print(f\"Shape: {df.shape}\")\n",
    "print(f\"\\nRisk Score Statistics:\")\n",
    "print(df['Financial_Risk_Score'].describe())\n",
    "\n",
    "# Show highest risk companies\n",
    "print(f\"\\nTop 5 Highest Risk Companies:\")\n",
    "top_risk = df.nlargest(5, 'Financial_Risk_Score')[['Company', 'Financial_Risk_Score']]\n",
    "print(top_risk.to_string(index=False))"
   ]
  },
  {
   "cell_type": "code",
   "execution_count": null,
   "id": "29cb8647",
   "metadata": {
    "vscode": {
     "languageId": "plaintext"
    }
   },
   "outputs": [],
   "source": [
    "# Risk score distribution\n",
    "fig, (ax1, ax2) = plt.subplots(1, 2, figsize=(15, 5))\n",
    "\n",
    "# Histogram\n",
    "ax1.hist(df['Financial_Risk_Score'], bins=20, alpha=0.7, color='skyblue')\n",
    "ax1.set_title('Risk Score Distribution')\n",
    "ax1.set_xlabel('Financial Risk Score')\n",
    "ax1.set_ylabel('Count')\n",
    "\n",
    "# Bar chart by company\n",
    "df_sorted = df.sort_values('Financial_Risk_Score', ascending=False)\n",
    "ax2.bar(range(len(df_sorted)), df_sorted['Financial_Risk_Score'], color='lightcoral')\n",
    "ax2.set_title('Risk Scores by Company')\n",
    "ax2.set_xlabel('Company Index')\n",
    "ax2.set_ylabel('Risk Score')\n",
    "\n",
    "plt.tight_layout()\n",
    "plt.show()"
   ]
  },
  {
   "cell_type": "code",
   "execution_count": null,
   "id": "c5d5aaa0",
   "metadata": {
    "vscode": {
     "languageId": "plaintext"
    }
   },
   "outputs": [],
   "source": [
    "# Interactive plotly chart\n",
    "fig = px.bar(df.sort_values('Financial_Risk_Score', ascending=False), \n",
    "             x='Company', y='Financial_Risk_Score',\n",
    "             title='Financial Risk Scores by Company',\n",
    "             color='Financial_Risk_Score',\n",
    "             color_continuous_scale='RdYlBu_r')\n",
    "fig.update_layout(xaxis_tickangle=-45)\n",
    "fig.show()"
   ]
  }
 ],
 "metadata": {
  "language_info": {
   "name": "python"
  }
 },
 "nbformat": 4,
 "nbformat_minor": 5
}
